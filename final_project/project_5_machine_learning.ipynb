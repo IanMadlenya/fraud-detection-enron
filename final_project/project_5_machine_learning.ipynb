{
 "cells": [
  {
   "cell_type": "markdown",
   "metadata": {},
   "source": [
    "# Identifying Fraud from Enron Email\n",
    "\n",
    "This is a detailed report on the process of builing estimators for Fraud Detection using machine learning.\n",
    "\n",
    "In this report, there are series of investigations performed to make a robust, strong final estimator to predict a person-of-interest(poi). These include,\n",
    "- an overview of the dataset.\n",
    "- outlier cleaning.\n",
    "- a performance comparison between two datasets, outlier-cleaned and outlier-non-cleaned.\n",
    "- a performance comparison between scaled features and non-scaled features.\n",
    "- a performance comparison among different feature selection methods, including SelectKBest, LinearSVC, RandomizedLogisticRegression, and ExtraTreesClassifier.\n",
    "- a performance comparison between including PCA and excluding PCA.\n",
    "- a performance comparison among different classifiers, including LinearSVC, KNeighborsClassifier, and AdaBoostClassifer.\n",
    "- tuning algorithms using F1 score as evaluation metric.\n",
    "- cross-validation on the final estimator.\n",
    "\n",
    "A more compact and summurized report can be found as \n",
    "<a href='https://raw.githubusercontent.com/yyforyongyu/nanodegree-machine-learning/master/final_project/documentation.html' target='_blank'>Documentation (html)</a>, or \n",
    "<a href='https://github.com/yyforyongyu/nanodegree-machine-learning/blob/master/final_project/documentation.ipynb' target='_blank'> Documentation (ipynb) </a>."
   ]
  },
  {
   "cell_type": "code",
   "execution_count": null,
   "metadata": {
    "collapsed": true
   },
   "outputs": [],
   "source": []
  }
 ],
 "metadata": {
  "kernelspec": {
   "display_name": "Python 2",
   "language": "python",
   "name": "python2"
  },
  "language_info": {
   "codemirror_mode": {
    "name": "ipython",
    "version": 2
   },
   "file_extension": ".py",
   "mimetype": "text/x-python",
   "name": "python",
   "nbconvert_exporter": "python",
   "pygments_lexer": "ipython2",
   "version": "2.7.10"
  }
 },
 "nbformat": 4,
 "nbformat_minor": 0
}
