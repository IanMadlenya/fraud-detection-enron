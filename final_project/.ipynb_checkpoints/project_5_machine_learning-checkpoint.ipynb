{
 "cells": [
  {
   "cell_type": "markdown",
   "metadata": {},
   "source": [
    "# Identifying Fraud from Enron Email\n",
    "\n",
    "This is a report on the process of builing estimators for Fraud Detection using machine learning.\n",
    "\n",
    "A more compact and summurized report can be found as \n",
    "<a href='https://raw.githubusercontent.com/yyforyongyu/nanodegree-machine-learning/master/final_project/documentation.html' target='_blank'>Documentation (html)</a>, or \n",
    "<a href='https://github.com/yyforyongyu/nanodegree-machine-learning/blob/master/final_project/documentation.ipynb' target='_blank'> Documentation (ipynb) </a>."
   ]
  },
  {
   "cell_type": "markdown",
   "metadata": {},
   "source": [
    "## Overview\n",
    "In this report, there are series of investigations performed to make a robust, strong final estimator to predict a person-of-interest(poi). These include,\n",
    "- an overview of the dataset.\n",
    "- outlier cleaning.\n",
    "- a performance comparison between scaled features and non-scaled features.\n",
    "- creating three features, \"stock_salary_ratio\", \"poi_from_ratio\", \"poi_to_ratio\", and evaluating them.\n",
    "- a performance comparison between two different feature selection methods, SelectKBest and ExtraTreesClassifier.\n",
    "- a performance comparison between including PCA and excluding PCA.\n",
    "- a performance comparison between different classifiers, LinearSVC and KNeighborsClassifier.\n",
    "- tuning algorithms using F1 score as evaluation metric.\n",
    "- cross-validation on the final estimator.\n",
    "\n",
    "Several helper functions are built for this project in poi_helper.py. Since this report only focuses on methodology in machine learning, we will not cover them here. For more details, report \n",
    "<a href='https://raw.githubusercontent.com/yyforyongyu/nanodegree-machine-learning/master/final_project/poi_id.html' target='_blank'>poi_id.html</a>\n",
    "has all the thoughts and steps in building these functions."
   ]
  },
  {
   "cell_type": "markdown",
   "metadata": {},
   "source": [
    "## Methodology\n",
    "When finding a best combination out of groups of factors, there are usually two ways to think about it. One way would be simply find the best solution from each group, then chain all the solutions together to make the final combination. The assumption is that the best of each independent thing can be grouped to be the best of a new thing. In reality, this is rarely true since the best from one group might have a negtive effect on the best from another group. If we are to apply this method into the analysis, in short, we would need to first, find the best feature selection method, then find the best calssifier, lastly combine the feature selection and classifier to make the final estimator. However, from the report \n",
    "<a href='https://raw.githubusercontent.com/yyforyongyu/nanodegree-machine-learning/master/final_project/poi_id.html' target='_blank'>poi_id.html</a>,\n",
    "using a SelectKBest + LinearSVC could have an accuracy score of 0.94, same when using RandomizedLogisticRegression + KNeighbors, although the runtimes were different. However, when applying RandomizedLogisticRegression + LinearSVC, or SelectKBest + KNeighbors, accuracy scores became lower. This clearly indicates that, for each classifier algorithm, there is a best fit feature selection method. Simply chaining a best classifier and a feature selection seperately won't produce the best result. It becomes rather clear when all the algorithms were applied on both outlier-cleaned and full datasets. The best estimator for one dataset won't work on a different dataset.\n",
    "\n",
    "So machine learning is really about finding a specific, nearly unique solution to a question, which brings me to think about the second way, exhaustively trying out combinations of all factors, rather than finding a best answer by groups. This assumes that a simple change in one unit can make a total difference. Unfortunately, this method also creates a problem, large time consumptions.\n",
    "\n",
    "For this analysis, the dataset will be tested with or without PCA and feature scaling, with two feature selection method, and two classifiers, considering only 20 values to be tuned on each classifier, 20 values to be tuned on each feature selection, and 10 values to be tuned on PCA, a rough total number of combinations is,\n",
    "$$ 2*2*2*2*20*20*10 = 64,000$$\n",
    "And it is not likely we will conduct all the possibilies here at once, we will have to make a tradeoff.\n",
    "\n",
    "For this analysis, the parameters of feature selection methods won't be tuned untill one best feature selection method is found, then the cross validation will be tuned, which brings the possible combination down dramstically before we start to tune on feature selection and cross validation."
   ]
  },
  {
   "cell_type": "markdown",
   "metadata": {},
   "source": [
    "# Summary of Dataset\n",
    "A summary of findings,\n",
    "- there are 146 data points with 21 features, and a total of 3066 obervations.\n",
    "- there are 18 people who is an point of interest.\n",
    "- 1,358 data points are missing.\n",
    "- the top 3 features with most missing values are \"loan_advances\", \"director_fees\", and \"restricted_stock_deferred\"."
   ]
  },
  {
   "cell_type": "code",
   "execution_count": 1,
   "metadata": {
    "collapsed": false
   },
   "outputs": [],
   "source": [
    "#!/usr/bin/python\n",
    "\n",
    "import sys\n",
    "import pickle\n",
    "sys.path.append(\"../tools/\")\n",
    "\n",
    "from tester import dump_classifier_and_data, test_classifier\n",
    "from poi_helper import *\n",
    "\n",
    "### Load the dictionary containing the dataset\n",
    "data_dict = pickle.load(open(\"final_project_dataset.pkl\", \"r\") )"
   ]
  },
  {
   "cell_type": "code",
   "execution_count": 2,
   "metadata": {
    "collapsed": false
   },
   "outputs": [
    {
     "data": {
      "text/plain": [
       "146"
      ]
     },
     "execution_count": 2,
     "metadata": {},
     "output_type": "execute_result"
    }
   ],
   "source": [
    "# number of data points\n",
    "len(data_dict.keys())"
   ]
  },
  {
   "cell_type": "code",
   "execution_count": 3,
   "metadata": {
    "collapsed": false
   },
   "outputs": [
    {
     "data": {
      "text/plain": [
       "21"
      ]
     },
     "execution_count": 3,
     "metadata": {},
     "output_type": "execute_result"
    }
   ],
   "source": [
    "# number of features available\n",
    "len(data_dict['METTS MARK'])"
   ]
  },
  {
   "cell_type": "code",
   "execution_count": 4,
   "metadata": {
    "collapsed": false,
    "scrolled": true
   },
   "outputs": [
    {
     "data": {
      "text/plain": [
       "['salary',\n",
       " 'to_messages',\n",
       " 'deferral_payments',\n",
       " 'total_payments',\n",
       " 'exercised_stock_options',\n",
       " 'bonus',\n",
       " 'restricted_stock',\n",
       " 'shared_receipt_with_poi',\n",
       " 'restricted_stock_deferred',\n",
       " 'total_stock_value',\n",
       " 'expenses',\n",
       " 'loan_advances',\n",
       " 'from_messages',\n",
       " 'other',\n",
       " 'from_this_person_to_poi',\n",
       " 'poi',\n",
       " 'director_fees',\n",
       " 'deferred_income',\n",
       " 'long_term_incentive',\n",
       " 'email_address',\n",
       " 'from_poi_to_this_person']"
      ]
     },
     "execution_count": 4,
     "metadata": {},
     "output_type": "execute_result"
    }
   ],
   "source": [
    "# available features\n",
    "data_dict[\"METTS MARK\"].keys()"
   ]
  },
  {
   "cell_type": "code",
   "execution_count": 5,
   "metadata": {
    "collapsed": false,
    "scrolled": false
   },
   "outputs": [
    {
     "name": "stdout",
     "output_type": "stream",
     "text": [
      "HANNON KEVIN P\n",
      "COLWELL WESLEY\n",
      "RIEKER PAULA H\n",
      "KOPPER MICHAEL J\n",
      "SHELBY REX\n",
      "DELAINEY DAVID W\n",
      "LAY KENNETH L\n",
      "BOWEN JR RAYMOND M\n",
      "BELDEN TIMOTHY N\n",
      "FASTOW ANDREW S\n",
      "CALGER CHRISTOPHER F\n",
      "RICE KENNETH D\n",
      "SKILLING JEFFREY K\n",
      "YEAGER F SCOTT\n",
      "HIRKO JOSEPH\n",
      "KOENIG MARK E\n",
      "CAUSEY RICHARD A\n",
      "GLISAN JR BEN F\n"
     ]
    },
    {
     "data": {
      "text/plain": [
       "18"
      ]
     },
     "execution_count": 5,
     "metadata": {},
     "output_type": "execute_result"
    }
   ],
   "source": [
    "# people of interest\n",
    "count = 0\n",
    "for key, item in data_dict.iteritems():\n",
    "    if item[\"poi\"]:\n",
    "        print key\n",
    "        count += 1\n",
    "count"
   ]
  },
  {
   "cell_type": "code",
   "execution_count": 6,
   "metadata": {
    "collapsed": true
   },
   "outputs": [],
   "source": [
    "# create a dictionary for all missing values\n",
    "missing = {}\n",
    "for key, item in data_dict.iteritems():\n",
    "    for elem, value in item.iteritems():\n",
    "        if value == \"NaN\":\n",
    "            if elem not in missing:\n",
    "                missing[elem] = 1\n",
    "            else:\n",
    "                missing[elem] += 1"
   ]
  },
  {
   "cell_type": "code",
   "execution_count": 7,
   "metadata": {
    "collapsed": false
   },
   "outputs": [
    {
     "data": {
      "text/plain": [
       "1358"
      ]
     },
     "execution_count": 7,
     "metadata": {},
     "output_type": "execute_result"
    }
   ],
   "source": [
    "# number of missing values\n",
    "number_of_missing = 0\n",
    "for key, item in missing.iteritems():\n",
    "    number_of_missing += item\n",
    "number_of_missing"
   ]
  },
  {
   "cell_type": "code",
   "execution_count": 8,
   "metadata": {
    "collapsed": false,
    "scrolled": true
   },
   "outputs": [
    {
     "data": {
      "text/plain": [
       "{'bonus': 64,\n",
       " 'deferral_payments': 107,\n",
       " 'deferred_income': 97,\n",
       " 'director_fees': 129,\n",
       " 'email_address': 35,\n",
       " 'exercised_stock_options': 44,\n",
       " 'expenses': 51,\n",
       " 'from_messages': 60,\n",
       " 'from_poi_to_this_person': 60,\n",
       " 'from_this_person_to_poi': 60,\n",
       " 'loan_advances': 142,\n",
       " 'long_term_incentive': 80,\n",
       " 'other': 53,\n",
       " 'restricted_stock': 36,\n",
       " 'restricted_stock_deferred': 128,\n",
       " 'salary': 51,\n",
       " 'shared_receipt_with_poi': 60,\n",
       " 'to_messages': 60,\n",
       " 'total_payments': 21,\n",
       " 'total_stock_value': 20}"
      ]
     },
     "execution_count": 8,
     "metadata": {},
     "output_type": "execute_result"
    }
   ],
   "source": [
    "missing"
   ]
  },
  {
   "cell_type": "markdown",
   "metadata": {},
   "source": [
    "# Outlier Investigation"
   ]
  },
  {
   "cell_type": "markdown",
   "metadata": {},
   "source": [
    "As we already known in mini projects, there is an outlier named \"TOTAL\" in this dataset. We will need to remove it before any further analysis."
   ]
  },
  {
   "cell_type": "code",
   "execution_count": 9,
   "metadata": {
    "collapsed": false,
    "scrolled": true
   },
   "outputs": [
    {
     "data": {
      "text/plain": [
       "{'bonus': 97343619,\n",
       " 'deferral_payments': 32083396,\n",
       " 'deferred_income': -27992891,\n",
       " 'director_fees': 1398517,\n",
       " 'email_address': 'NaN',\n",
       " 'exercised_stock_options': 311764000,\n",
       " 'expenses': 5235198,\n",
       " 'from_messages': 'NaN',\n",
       " 'from_poi_to_this_person': 'NaN',\n",
       " 'from_this_person_to_poi': 'NaN',\n",
       " 'loan_advances': 83925000,\n",
       " 'long_term_incentive': 48521928,\n",
       " 'other': 42667589,\n",
       " 'poi': False,\n",
       " 'restricted_stock': 130322299,\n",
       " 'restricted_stock_deferred': -7576788,\n",
       " 'salary': 26704229,\n",
       " 'shared_receipt_with_poi': 'NaN',\n",
       " 'to_messages': 'NaN',\n",
       " 'total_payments': 309886585,\n",
       " 'total_stock_value': 434509511}"
      ]
     },
     "execution_count": 9,
     "metadata": {},
     "output_type": "execute_result"
    }
   ],
   "source": [
    "# remove the outlier 'TOTAL'\n",
    "data_dict.pop(\"TOTAL\")"
   ]
  },
  {
   "cell_type": "markdown",
   "metadata": {},
   "source": [
    "## Plots of the Outliers\n",
    "\n",
    "To understand the outliers in this dataset, plots are created by using salary against every other feature but poi, which is used to color data points in each plot. As a starting point, all the available features will be selected and put into the model. Later in this report, some features will be removed based on their feature selection score."
   ]
  },
  {
   "cell_type": "code",
   "execution_count": 10,
   "metadata": {
    "collapsed": true
   },
   "outputs": [],
   "source": [
    "# create features for plots\n",
    "# features_list is a list of strings, each of which is a feature name.\n",
    "# The first feature must be \"poi\".\n",
    "features_list = ['poi',\n",
    "                 'salary',\n",
    "                 'to_messages',\n",
    "                 'deferral_payments',\n",
    "                 'total_payments',\n",
    "                 'exercised_stock_options',\n",
    "                 'bonus',\n",
    "                 'restricted_stock',\n",
    "                 'shared_receipt_with_poi',\n",
    "                 'restricted_stock_deferred',\n",
    "                 'total_stock_value',\n",
    "                 'expenses',\n",
    "                 'loan_advances',\n",
    "                 'from_messages',\n",
    "                 'other',\n",
    "                 'from_this_person_to_poi',\n",
    "                 'director_fees',\n",
    "                 'deferred_income',\n",
    "                 'long_term_incentive',\n",
    "                 'from_poi_to_this_person']\n",
    "\n",
    "# format the dataset\n",
    "data = featureFormat(data_dict, features_list)\n",
    "\n",
    "# create a pandas dataframe\n",
    "df = pd.DataFrame(data, columns = features_list)"
   ]
  },
  {
   "cell_type": "markdown",
   "metadata": {},
   "source": [
    "In the following plots, blue color stands for poi, red color stands for non-poi."
   ]
  },
  {
   "cell_type": "code",
   "execution_count": 11,
   "metadata": {
    "collapsed": false,
    "scrolled": true
   },
   "outputs": [],
   "source": [
    "# %matplotlib inline\n",
    "# from ggplot import *\n",
    "\n",
    "# # iter through all features\n",
    "# # x axis will always be salary\n",
    "# # poi is represented by colors of points\n",
    "# # the rest of features are put in y axis\n",
    "# for feature in features_list:\n",
    "#     if feature != \"poi\" and feature != \"salary\":\n",
    "#         print ggplot(aes(x = 'salary', y = feature, color = 'poi'),\n",
    "#                data = df) +\\\n",
    "#         geom_point() +\\\n",
    "#         ggtitle(\"salary against \" + feature)"
   ]
  },
  {
   "cell_type": "markdown",
   "metadata": {},
   "source": [
    "## Outlier Removal\n",
    "\n",
    "The purpose of removing outliers is to prevent the model being misrepresented by extreme cases, which comes with an assumption that either the extreme cases rarely happen, or they don't carry engough valuable infomration to be kept in the model. This can be true for some of the features, but could be controversy for \"total_payment\" feature, and shouldn't be applied to \"exercised_stock_options\" as the top four outliers are all person of interest. On the other hand, if we are to treat top 10% of each feature as outliers, it is not hard to imagine that the final dataset will have much less than 90%. A large deduction in the original dataset will cause the model becoming weaker.\n",
    "\n",
    "Given all these thoughts, we will start the cleaning experiment using a simple method. By fitting in a linear regression model, we will calculate the variance between the predicted values and true values, then treat features whoes predictions have top 10% variance as outliers. Based on that, we can then decide what to do with the outliers.\n"
   ]
  },
  {
   "cell_type": "code",
   "execution_count": 12,
   "metadata": {
    "collapsed": false
   },
   "outputs": [
    {
     "data": {
      "text/plain": [
       "0.35600464626660311"
      ]
     },
     "execution_count": 12,
     "metadata": {},
     "output_type": "execute_result"
    }
   ],
   "source": [
    "### check on the score before outlier cleaning\n",
    "features, labels = featureLabelSplit(data_dict, features_list)\n",
    "buildRegression(features, labels)[1]"
   ]
  },
  {
   "cell_type": "code",
   "execution_count": 13,
   "metadata": {
    "collapsed": false
   },
   "outputs": [],
   "source": [
    "### clean the outliers\n",
    "### extract normal data points and outliers\n",
    "cleaned_data, outliers = outlierCleaner(features, labels)"
   ]
  },
  {
   "cell_type": "code",
   "execution_count": 14,
   "metadata": {
    "collapsed": false
   },
   "outputs": [
    {
     "data": {
      "text/plain": [
       "0.82103305215836841"
      ]
     },
     "execution_count": 14,
     "metadata": {},
     "output_type": "execute_result"
    }
   ],
   "source": [
    "### extract labels and features from cleaned_data\n",
    "cleaned_labels, cleaned_features = targetFeatureSplit(cleaned_data)\n",
    "\n",
    "# fit the model again and check the score\n",
    "buildRegression(cleaned_features, cleaned_labels)[1]"
   ]
  },
  {
   "cell_type": "markdown",
   "metadata": {},
   "source": [
    "A removal of the outliers improved the score of the linear model dramastically from 0.35 to 0.82. Although it's good to see improvement in score, it's always necessary to take a look at the removed outliers."
   ]
  },
  {
   "cell_type": "markdown",
   "metadata": {},
   "source": [
    "## Check on Outliers"
   ]
  },
  {
   "cell_type": "code",
   "execution_count": 15,
   "metadata": {
    "collapsed": false
   },
   "outputs": [],
   "source": [
    "### change the data format from numpy array to python dictionary\n",
    "outliers_dataset = personMapping(featureReformat(outliers, features_list), data_dict, features_list)"
   ]
  },
  {
   "cell_type": "code",
   "execution_count": 16,
   "metadata": {
    "collapsed": false
   },
   "outputs": [
    {
     "data": {
      "text/plain": [
       "14"
      ]
     },
     "execution_count": 16,
     "metadata": {},
     "output_type": "execute_result"
    }
   ],
   "source": [
    "### number of outliers\n",
    "len(outliers_dataset)"
   ]
  },
  {
   "cell_type": "code",
   "execution_count": 17,
   "metadata": {
    "collapsed": false
   },
   "outputs": [
    {
     "name": "stdout",
     "output_type": "stream",
     "text": [
      "LAVORATO JOHN J\n"
     ]
    }
   ],
   "source": [
    "### name of outliers who is not a poi\n",
    "for key, item in outliers_dataset.iteritems():\n",
    "    if item['poi'] == 0.0:\n",
    "        print key"
   ]
  },
  {
   "cell_type": "markdown",
   "metadata": {},
   "source": [
    "## Strategy on Outlier Removal\n",
    "\n",
    "As mentioned above, simply removing the outliers might cause an issue for later on analysis. While the imporvement in score of the linear model is surely tempting, do note that, this is not the model that we will use to conduct machine learning in this dataset. \n",
    "\n",
    "On the other hand, there's no surprising that most of the person of interest(13 out 18) are flagged as outliers given the background knowledge of Enron Fraud. In this case, the outliers are the targets we want to find, according to <a href='https://discussions.udacity.com/t/outlier-removal/7446' target='_blank'>this post in discussion forum</a>, we can manually decided to include or exclude the outliers or not in the training set. This strategy will be applied when processing the dataset.\n",
    "\n",
    "Given the though above, when fitting in datasets later, there are 5% outliers cleaned on the training set."
   ]
  },
  {
   "cell_type": "markdown",
   "metadata": {
    "collapsed": true
   },
   "source": [
    "# Preprocessing Features"
   ]
  },
  {
   "cell_type": "markdown",
   "metadata": {},
   "source": [
    "## Feature Creation\n",
    "To dig out more patterns from the dataset, three new features, \"stock_salary_ratio\", \"poi_from_ratio\", \"poi_to_ratio\", are created as following.\n",
    "\n",
    "- stock_salary_ratio: stock_salary_ratio takes the result from total_stock_value divided by salary. This feature is useful based on the assumption that a person of interest usually has a unusual large stock value since it's under the table, while salary information could be more easily known by public, thus the ratio could give information to identify the poi. The bigger the ratio, the more likely it is a poi.\n",
    "- poi_from_ratio: poi_from_ratio takes result from from_poi_to_this_person divided by from_messages. This feature assumes that if a person is a poi, he/she tends to have more contacts with another poi, therefore the ratio would be bigger. And same applie to feature poi_to_ratio."
   ]
  },
  {
   "cell_type": "code",
   "execution_count": 18,
   "metadata": {
    "collapsed": false
   },
   "outputs": [],
   "source": [
    "### add new features to dataset\n",
    "for key, item in data_dict.iteritems():\n",
    "    ### add stock_salary_ratio\n",
    "    if item['salary'] != \"NaN\" and item['total_stock_value'] != \"NaN\":\n",
    "        item['stock_salary_ratio'] = float(item['total_stock_value']) / item['salary']\n",
    "    else:\n",
    "        item['stock_salary_ratio'] = \"NaN\"\n",
    "    \n",
    "    ### add poi_from_ratio\n",
    "    if item['from_messages'] != \"NaN\" and item['from_poi_to_this_person'] != \"NaN\":\n",
    "        item['poi_from_ratio'] = float(item['from_poi_to_this_person']) / item['from_messages']\n",
    "    else:\n",
    "        item['poi_from_ratio'] = \"NaN\"\n",
    "        \n",
    "    ### add poi_to_ratio\n",
    "    if item[\"to_messages\"] != \"NaN\" and item[\"from_this_person_to_poi\"] != \"NaN\":\n",
    "        item[\"poi_to_ratio\"] = float(item[\"from_this_person_to_poi\"]) / item[\"to_messages\"]\n",
    "    else:\n",
    "        item[\"poi_to_ratio\"] = \"NaN\""
   ]
  },
  {
   "cell_type": "code",
   "execution_count": 19,
   "metadata": {
    "collapsed": true
   },
   "outputs": [],
   "source": [
    "### update features list\n",
    "new_features_list = features_list + [\"stock_salary_ratio\", \"poi_from_ratio\", \"poi_to_ratio\"]"
   ]
  },
  {
   "cell_type": "markdown",
   "metadata": {},
   "source": [
    "## Feature Scaling\n",
    "\n",
    "Depending on the algorithms chosen, feature scaling may be necessary. In this report, three feature scaling methods are compared, including MinMaxScaler, StandardScaler, and Normalizer."
   ]
  },
  {
   "cell_type": "code",
   "execution_count": 31,
   "metadata": {
    "collapsed": true
   },
   "outputs": [],
   "source": [
    "from sklearn.preprocessing import MinMaxScaler, StandardScaler, Normalizer"
   ]
  },
  {
   "cell_type": "code",
   "execution_count": 74,
   "metadata": {
    "collapsed": false
   },
   "outputs": [
    {
     "data": {
      "text/html": [
       "<div>\n",
       "<table border=\"1\" class=\"dataframe\">\n",
       "  <thead>\n",
       "    <tr style=\"text-align: right;\">\n",
       "      <th></th>\n",
       "      <th>feature</th>\n",
       "      <th>mean</th>\n",
       "      <th>std</th>\n",
       "    </tr>\n",
       "  </thead>\n",
       "  <tbody>\n",
       "    <tr>\n",
       "      <th>3</th>\n",
       "      <td>total_payments</td>\n",
       "      <td>2259057.1250</td>\n",
       "      <td>8846594.3829</td>\n",
       "    </tr>\n",
       "    <tr>\n",
       "      <th>11</th>\n",
       "      <td>loan_advances</td>\n",
       "      <td>582812.5000</td>\n",
       "      <td>6794471.7789</td>\n",
       "    </tr>\n",
       "    <tr>\n",
       "      <th>9</th>\n",
       "      <td>total_stock_value</td>\n",
       "      <td>2909785.6111</td>\n",
       "      <td>6189018.0750</td>\n",
       "    </tr>\n",
       "    <tr>\n",
       "      <th>4</th>\n",
       "      <td>exercised_stock_options</td>\n",
       "      <td>2075801.9792</td>\n",
       "      <td>4795513.1452</td>\n",
       "    </tr>\n",
       "    <tr>\n",
       "      <th>6</th>\n",
       "      <td>restricted_stock</td>\n",
       "      <td>868536.2917</td>\n",
       "      <td>2016572.3887</td>\n",
       "    </tr>\n",
       "    <tr>\n",
       "      <th>8</th>\n",
       "      <td>restricted_stock_deferred</td>\n",
       "      <td>73417.9028</td>\n",
       "      <td>1301983.3904</td>\n",
       "    </tr>\n",
       "    <tr>\n",
       "      <th>5</th>\n",
       "      <td>bonus</td>\n",
       "      <td>675997.3542</td>\n",
       "      <td>1233155.2559</td>\n",
       "    </tr>\n",
       "    <tr>\n",
       "      <th>13</th>\n",
       "      <td>other</td>\n",
       "      <td>297260.0903</td>\n",
       "      <td>1131068.1310</td>\n",
       "    </tr>\n",
       "    <tr>\n",
       "      <th>2</th>\n",
       "      <td>deferral_payments</td>\n",
       "      <td>222089.5556</td>\n",
       "      <td>754101.3026</td>\n",
       "    </tr>\n",
       "    <tr>\n",
       "      <th>17</th>\n",
       "      <td>long_term_incentive</td>\n",
       "      <td>336957.8333</td>\n",
       "      <td>687182.5677</td>\n",
       "    </tr>\n",
       "    <tr>\n",
       "      <th>16</th>\n",
       "      <td>deferred_income</td>\n",
       "      <td>-193683.2708</td>\n",
       "      <td>606011.1351</td>\n",
       "    </tr>\n",
       "    <tr>\n",
       "      <th>0</th>\n",
       "      <td>salary</td>\n",
       "      <td>185446.0347</td>\n",
       "      <td>197042.1238</td>\n",
       "    </tr>\n",
       "    <tr>\n",
       "      <th>10</th>\n",
       "      <td>expenses</td>\n",
       "      <td>35375.3403</td>\n",
       "      <td>45309.3030</td>\n",
       "    </tr>\n",
       "    <tr>\n",
       "      <th>15</th>\n",
       "      <td>director_fees</td>\n",
       "      <td>9980.3194</td>\n",
       "      <td>31300.5751</td>\n",
       "    </tr>\n",
       "    <tr>\n",
       "      <th>1</th>\n",
       "      <td>to_messages</td>\n",
       "      <td>1238.5556</td>\n",
       "      <td>2237.5648</td>\n",
       "    </tr>\n",
       "    <tr>\n",
       "      <th>12</th>\n",
       "      <td>from_messages</td>\n",
       "      <td>363.5833</td>\n",
       "      <td>1450.6752</td>\n",
       "    </tr>\n",
       "    <tr>\n",
       "      <th>7</th>\n",
       "      <td>shared_receipt_with_poi</td>\n",
       "      <td>702.6111</td>\n",
       "      <td>1077.2907</td>\n",
       "    </tr>\n",
       "    <tr>\n",
       "      <th>14</th>\n",
       "      <td>from_this_person_to_poi</td>\n",
       "      <td>24.6250</td>\n",
       "      <td>79.7783</td>\n",
       "    </tr>\n",
       "    <tr>\n",
       "      <th>18</th>\n",
       "      <td>from_poi_to_this_person</td>\n",
       "      <td>38.7569</td>\n",
       "      <td>74.2768</td>\n",
       "    </tr>\n",
       "  </tbody>\n",
       "</table>\n",
       "</div>"
      ],
      "text/plain": [
       "                      feature          mean           std\n",
       "3              total_payments  2259057.1250  8846594.3829\n",
       "11              loan_advances   582812.5000  6794471.7789\n",
       "9           total_stock_value  2909785.6111  6189018.0750\n",
       "4     exercised_stock_options  2075801.9792  4795513.1452\n",
       "6            restricted_stock   868536.2917  2016572.3887\n",
       "8   restricted_stock_deferred    73417.9028  1301983.3904\n",
       "5                       bonus   675997.3542  1233155.2559\n",
       "13                      other   297260.0903  1131068.1310\n",
       "2           deferral_payments   222089.5556   754101.3026\n",
       "17        long_term_incentive   336957.8333   687182.5677\n",
       "16            deferred_income  -193683.2708   606011.1351\n",
       "0                      salary   185446.0347   197042.1238\n",
       "10                   expenses    35375.3403    45309.3030\n",
       "15              director_fees     9980.3194    31300.5751\n",
       "1                 to_messages     1238.5556     2237.5648\n",
       "12              from_messages      363.5833     1450.6752\n",
       "7     shared_receipt_with_poi      702.6111     1077.2907\n",
       "14    from_this_person_to_poi       24.6250       79.7783\n",
       "18    from_poi_to_this_person       38.7569       74.2768"
      ]
     },
     "execution_count": 74,
     "metadata": {},
     "output_type": "execute_result"
    }
   ],
   "source": [
    "stdMeanReader(features, features_list)"
   ]
  },
  {
   "cell_type": "code",
   "execution_count": 76,
   "metadata": {
    "collapsed": false
   },
   "outputs": [
    {
     "data": {
      "text/html": [
       "<div>\n",
       "<table border=\"1\" class=\"dataframe\">\n",
       "  <thead>\n",
       "    <tr style=\"text-align: right;\">\n",
       "      <th></th>\n",
       "      <th>feature</th>\n",
       "      <th>mean</th>\n",
       "      <th>std</th>\n",
       "    </tr>\n",
       "  </thead>\n",
       "  <tbody>\n",
       "    <tr>\n",
       "      <th>15</th>\n",
       "      <td>director_fees</td>\n",
       "      <td>0.0724</td>\n",
       "      <td>0.2270</td>\n",
       "    </tr>\n",
       "    <tr>\n",
       "      <th>10</th>\n",
       "      <td>expenses</td>\n",
       "      <td>0.1546</td>\n",
       "      <td>0.1981</td>\n",
       "    </tr>\n",
       "    <tr>\n",
       "      <th>7</th>\n",
       "      <td>shared_receipt_with_poi</td>\n",
       "      <td>0.1273</td>\n",
       "      <td>0.1951</td>\n",
       "    </tr>\n",
       "    <tr>\n",
       "      <th>0</th>\n",
       "      <td>salary</td>\n",
       "      <td>0.1669</td>\n",
       "      <td>0.1773</td>\n",
       "    </tr>\n",
       "    <tr>\n",
       "      <th>16</th>\n",
       "      <td>deferred_income</td>\n",
       "      <td>0.9447</td>\n",
       "      <td>0.1729</td>\n",
       "    </tr>\n",
       "    <tr>\n",
       "      <th>5</th>\n",
       "      <td>bonus</td>\n",
       "      <td>0.0845</td>\n",
       "      <td>0.1541</td>\n",
       "    </tr>\n",
       "    <tr>\n",
       "      <th>1</th>\n",
       "      <td>to_messages</td>\n",
       "      <td>0.0818</td>\n",
       "      <td>0.1477</td>\n",
       "    </tr>\n",
       "    <tr>\n",
       "      <th>18</th>\n",
       "      <td>from_poi_to_this_person</td>\n",
       "      <td>0.0734</td>\n",
       "      <td>0.1407</td>\n",
       "    </tr>\n",
       "    <tr>\n",
       "      <th>4</th>\n",
       "      <td>exercised_stock_options</td>\n",
       "      <td>0.0604</td>\n",
       "      <td>0.1396</td>\n",
       "    </tr>\n",
       "    <tr>\n",
       "      <th>17</th>\n",
       "      <td>long_term_incentive</td>\n",
       "      <td>0.0655</td>\n",
       "      <td>0.1336</td>\n",
       "    </tr>\n",
       "    <tr>\n",
       "      <th>14</th>\n",
       "      <td>from_this_person_to_poi</td>\n",
       "      <td>0.0404</td>\n",
       "      <td>0.1310</td>\n",
       "    </tr>\n",
       "    <tr>\n",
       "      <th>9</th>\n",
       "      <td>total_stock_value</td>\n",
       "      <td>0.0601</td>\n",
       "      <td>0.1259</td>\n",
       "    </tr>\n",
       "    <tr>\n",
       "      <th>6</th>\n",
       "      <td>restricted_stock</td>\n",
       "      <td>0.2000</td>\n",
       "      <td>0.1161</td>\n",
       "    </tr>\n",
       "    <tr>\n",
       "      <th>2</th>\n",
       "      <td>deferral_payments</td>\n",
       "      <td>0.0497</td>\n",
       "      <td>0.1155</td>\n",
       "    </tr>\n",
       "    <tr>\n",
       "      <th>13</th>\n",
       "      <td>other</td>\n",
       "      <td>0.0287</td>\n",
       "      <td>0.1092</td>\n",
       "    </tr>\n",
       "    <tr>\n",
       "      <th>12</th>\n",
       "      <td>from_messages</td>\n",
       "      <td>0.0253</td>\n",
       "      <td>0.1010</td>\n",
       "    </tr>\n",
       "    <tr>\n",
       "      <th>3</th>\n",
       "      <td>total_payments</td>\n",
       "      <td>0.0218</td>\n",
       "      <td>0.0854</td>\n",
       "    </tr>\n",
       "    <tr>\n",
       "      <th>11</th>\n",
       "      <td>loan_advances</td>\n",
       "      <td>0.0071</td>\n",
       "      <td>0.0833</td>\n",
       "    </tr>\n",
       "    <tr>\n",
       "      <th>8</th>\n",
       "      <td>restricted_stock_deferred</td>\n",
       "      <td>0.1079</td>\n",
       "      <td>0.0755</td>\n",
       "    </tr>\n",
       "  </tbody>\n",
       "</table>\n",
       "</div>"
      ],
      "text/plain": [
       "                      feature    mean     std\n",
       "15              director_fees  0.0724  0.2270\n",
       "10                   expenses  0.1546  0.1981\n",
       "7     shared_receipt_with_poi  0.1273  0.1951\n",
       "0                      salary  0.1669  0.1773\n",
       "16            deferred_income  0.9447  0.1729\n",
       "5                       bonus  0.0845  0.1541\n",
       "1                 to_messages  0.0818  0.1477\n",
       "18    from_poi_to_this_person  0.0734  0.1407\n",
       "4     exercised_stock_options  0.0604  0.1396\n",
       "17        long_term_incentive  0.0655  0.1336\n",
       "14    from_this_person_to_poi  0.0404  0.1310\n",
       "9           total_stock_value  0.0601  0.1259\n",
       "6            restricted_stock  0.2000  0.1161\n",
       "2           deferral_payments  0.0497  0.1155\n",
       "13                      other  0.0287  0.1092\n",
       "12              from_messages  0.0253  0.1010\n",
       "3              total_payments  0.0218  0.0854\n",
       "11              loan_advances  0.0071  0.0833\n",
       "8   restricted_stock_deferred  0.1079  0.0755"
      ]
     },
     "execution_count": 76,
     "metadata": {},
     "output_type": "execute_result"
    }
   ],
   "source": [
    "### check results from MinMaxScaler\n",
    "stdMeanReader(features, features_list, MinMaxScaler())"
   ]
  },
  {
   "cell_type": "code",
   "execution_count": 77,
   "metadata": {
    "collapsed": false
   },
   "outputs": [
    {
     "data": {
      "text/html": [
       "<div>\n",
       "<table border=\"1\" class=\"dataframe\">\n",
       "  <thead>\n",
       "    <tr style=\"text-align: right;\">\n",
       "      <th></th>\n",
       "      <th>feature</th>\n",
       "      <th>mean</th>\n",
       "      <th>std</th>\n",
       "    </tr>\n",
       "  </thead>\n",
       "  <tbody>\n",
       "    <tr>\n",
       "      <th>0</th>\n",
       "      <td>salary</td>\n",
       "      <td>0</td>\n",
       "      <td>1.0035</td>\n",
       "    </tr>\n",
       "    <tr>\n",
       "      <th>10</th>\n",
       "      <td>expenses</td>\n",
       "      <td>-0</td>\n",
       "      <td>1.0035</td>\n",
       "    </tr>\n",
       "    <tr>\n",
       "      <th>17</th>\n",
       "      <td>long_term_incentive</td>\n",
       "      <td>0</td>\n",
       "      <td>1.0035</td>\n",
       "    </tr>\n",
       "    <tr>\n",
       "      <th>16</th>\n",
       "      <td>deferred_income</td>\n",
       "      <td>0</td>\n",
       "      <td>1.0035</td>\n",
       "    </tr>\n",
       "    <tr>\n",
       "      <th>15</th>\n",
       "      <td>director_fees</td>\n",
       "      <td>-0</td>\n",
       "      <td>1.0035</td>\n",
       "    </tr>\n",
       "    <tr>\n",
       "      <th>14</th>\n",
       "      <td>from_this_person_to_poi</td>\n",
       "      <td>0</td>\n",
       "      <td>1.0035</td>\n",
       "    </tr>\n",
       "    <tr>\n",
       "      <th>13</th>\n",
       "      <td>other</td>\n",
       "      <td>-0</td>\n",
       "      <td>1.0035</td>\n",
       "    </tr>\n",
       "    <tr>\n",
       "      <th>12</th>\n",
       "      <td>from_messages</td>\n",
       "      <td>-0</td>\n",
       "      <td>1.0035</td>\n",
       "    </tr>\n",
       "    <tr>\n",
       "      <th>11</th>\n",
       "      <td>loan_advances</td>\n",
       "      <td>-0</td>\n",
       "      <td>1.0035</td>\n",
       "    </tr>\n",
       "    <tr>\n",
       "      <th>9</th>\n",
       "      <td>total_stock_value</td>\n",
       "      <td>0</td>\n",
       "      <td>1.0035</td>\n",
       "    </tr>\n",
       "    <tr>\n",
       "      <th>1</th>\n",
       "      <td>to_messages</td>\n",
       "      <td>0</td>\n",
       "      <td>1.0035</td>\n",
       "    </tr>\n",
       "    <tr>\n",
       "      <th>8</th>\n",
       "      <td>restricted_stock_deferred</td>\n",
       "      <td>0</td>\n",
       "      <td>1.0035</td>\n",
       "    </tr>\n",
       "    <tr>\n",
       "      <th>7</th>\n",
       "      <td>shared_receipt_with_poi</td>\n",
       "      <td>-0</td>\n",
       "      <td>1.0035</td>\n",
       "    </tr>\n",
       "    <tr>\n",
       "      <th>6</th>\n",
       "      <td>restricted_stock</td>\n",
       "      <td>0</td>\n",
       "      <td>1.0035</td>\n",
       "    </tr>\n",
       "    <tr>\n",
       "      <th>5</th>\n",
       "      <td>bonus</td>\n",
       "      <td>0</td>\n",
       "      <td>1.0035</td>\n",
       "    </tr>\n",
       "    <tr>\n",
       "      <th>4</th>\n",
       "      <td>exercised_stock_options</td>\n",
       "      <td>0</td>\n",
       "      <td>1.0035</td>\n",
       "    </tr>\n",
       "    <tr>\n",
       "      <th>3</th>\n",
       "      <td>total_payments</td>\n",
       "      <td>-0</td>\n",
       "      <td>1.0035</td>\n",
       "    </tr>\n",
       "    <tr>\n",
       "      <th>2</th>\n",
       "      <td>deferral_payments</td>\n",
       "      <td>-0</td>\n",
       "      <td>1.0035</td>\n",
       "    </tr>\n",
       "    <tr>\n",
       "      <th>18</th>\n",
       "      <td>from_poi_to_this_person</td>\n",
       "      <td>-0</td>\n",
       "      <td>1.0035</td>\n",
       "    </tr>\n",
       "  </tbody>\n",
       "</table>\n",
       "</div>"
      ],
      "text/plain": [
       "                      feature  mean     std\n",
       "0                      salary     0  1.0035\n",
       "10                   expenses    -0  1.0035\n",
       "17        long_term_incentive     0  1.0035\n",
       "16            deferred_income     0  1.0035\n",
       "15              director_fees    -0  1.0035\n",
       "14    from_this_person_to_poi     0  1.0035\n",
       "13                      other    -0  1.0035\n",
       "12              from_messages    -0  1.0035\n",
       "11              loan_advances    -0  1.0035\n",
       "9           total_stock_value     0  1.0035\n",
       "1                 to_messages     0  1.0035\n",
       "8   restricted_stock_deferred     0  1.0035\n",
       "7     shared_receipt_with_poi    -0  1.0035\n",
       "6            restricted_stock     0  1.0035\n",
       "5                       bonus     0  1.0035\n",
       "4     exercised_stock_options     0  1.0035\n",
       "3              total_payments    -0  1.0035\n",
       "2           deferral_payments    -0  1.0035\n",
       "18    from_poi_to_this_person    -0  1.0035"
      ]
     },
     "execution_count": 77,
     "metadata": {},
     "output_type": "execute_result"
    }
   ],
   "source": [
    "### check results from StandardScaler\n",
    "stdMeanReader(features, features_list, StandardScaler())"
   ]
  },
  {
   "cell_type": "code",
   "execution_count": 78,
   "metadata": {
    "collapsed": false
   },
   "outputs": [
    {
     "data": {
      "text/html": [
       "<div>\n",
       "<table border=\"1\" class=\"dataframe\">\n",
       "  <thead>\n",
       "    <tr style=\"text-align: right;\">\n",
       "      <th></th>\n",
       "      <th>feature</th>\n",
       "      <th>mean</th>\n",
       "      <th>std</th>\n",
       "    </tr>\n",
       "  </thead>\n",
       "  <tbody>\n",
       "    <tr>\n",
       "      <th>3</th>\n",
       "      <td>total_payments</td>\n",
       "      <td>0.4200</td>\n",
       "      <td>0.3071</td>\n",
       "    </tr>\n",
       "    <tr>\n",
       "      <th>9</th>\n",
       "      <td>total_stock_value</td>\n",
       "      <td>0.4611</td>\n",
       "      <td>0.2800</td>\n",
       "    </tr>\n",
       "    <tr>\n",
       "      <th>4</th>\n",
       "      <td>exercised_stock_options</td>\n",
       "      <td>0.2979</td>\n",
       "      <td>0.2644</td>\n",
       "    </tr>\n",
       "    <tr>\n",
       "      <th>5</th>\n",
       "      <td>bonus</td>\n",
       "      <td>0.1587</td>\n",
       "      <td>0.1891</td>\n",
       "    </tr>\n",
       "    <tr>\n",
       "      <th>6</th>\n",
       "      <td>restricted_stock</td>\n",
       "      <td>0.1812</td>\n",
       "      <td>0.1890</td>\n",
       "    </tr>\n",
       "    <tr>\n",
       "      <th>15</th>\n",
       "      <td>director_fees</td>\n",
       "      <td>0.0520</td>\n",
       "      <td>0.1760</td>\n",
       "    </tr>\n",
       "    <tr>\n",
       "      <th>16</th>\n",
       "      <td>deferred_income</td>\n",
       "      <td>-0.0690</td>\n",
       "      <td>0.1638</td>\n",
       "    </tr>\n",
       "    <tr>\n",
       "      <th>2</th>\n",
       "      <td>deferral_payments</td>\n",
       "      <td>0.0466</td>\n",
       "      <td>0.1395</td>\n",
       "    </tr>\n",
       "    <tr>\n",
       "      <th>13</th>\n",
       "      <td>other</td>\n",
       "      <td>0.0506</td>\n",
       "      <td>0.1201</td>\n",
       "    </tr>\n",
       "    <tr>\n",
       "      <th>17</th>\n",
       "      <td>long_term_incentive</td>\n",
       "      <td>0.0693</td>\n",
       "      <td>0.1118</td>\n",
       "    </tr>\n",
       "    <tr>\n",
       "      <th>8</th>\n",
       "      <td>restricted_stock_deferred</td>\n",
       "      <td>-0.0091</td>\n",
       "      <td>0.0929</td>\n",
       "    </tr>\n",
       "    <tr>\n",
       "      <th>10</th>\n",
       "      <td>expenses</td>\n",
       "      <td>0.0280</td>\n",
       "      <td>0.0915</td>\n",
       "    </tr>\n",
       "    <tr>\n",
       "      <th>0</th>\n",
       "      <td>salary</td>\n",
       "      <td>0.0640</td>\n",
       "      <td>0.0866</td>\n",
       "    </tr>\n",
       "    <tr>\n",
       "      <th>11</th>\n",
       "      <td>loan_advances</td>\n",
       "      <td>0.0061</td>\n",
       "      <td>0.0510</td>\n",
       "    </tr>\n",
       "    <tr>\n",
       "      <th>1</th>\n",
       "      <td>to_messages</td>\n",
       "      <td>0.0008</td>\n",
       "      <td>0.0030</td>\n",
       "    </tr>\n",
       "    <tr>\n",
       "      <th>7</th>\n",
       "      <td>shared_receipt_with_poi</td>\n",
       "      <td>0.0003</td>\n",
       "      <td>0.0010</td>\n",
       "    </tr>\n",
       "    <tr>\n",
       "      <th>12</th>\n",
       "      <td>from_messages</td>\n",
       "      <td>0.0002</td>\n",
       "      <td>0.0008</td>\n",
       "    </tr>\n",
       "    <tr>\n",
       "      <th>14</th>\n",
       "      <td>from_this_person_to_poi</td>\n",
       "      <td>0.0000</td>\n",
       "      <td>0.0000</td>\n",
       "    </tr>\n",
       "    <tr>\n",
       "      <th>18</th>\n",
       "      <td>from_poi_to_this_person</td>\n",
       "      <td>0.0000</td>\n",
       "      <td>0.0000</td>\n",
       "    </tr>\n",
       "  </tbody>\n",
       "</table>\n",
       "</div>"
      ],
      "text/plain": [
       "                      feature    mean     std\n",
       "3              total_payments  0.4200  0.3071\n",
       "9           total_stock_value  0.4611  0.2800\n",
       "4     exercised_stock_options  0.2979  0.2644\n",
       "5                       bonus  0.1587  0.1891\n",
       "6            restricted_stock  0.1812  0.1890\n",
       "15              director_fees  0.0520  0.1760\n",
       "16            deferred_income -0.0690  0.1638\n",
       "2           deferral_payments  0.0466  0.1395\n",
       "13                      other  0.0506  0.1201\n",
       "17        long_term_incentive  0.0693  0.1118\n",
       "8   restricted_stock_deferred -0.0091  0.0929\n",
       "10                   expenses  0.0280  0.0915\n",
       "0                      salary  0.0640  0.0866\n",
       "11              loan_advances  0.0061  0.0510\n",
       "1                 to_messages  0.0008  0.0030\n",
       "7     shared_receipt_with_poi  0.0003  0.0010\n",
       "12              from_messages  0.0002  0.0008\n",
       "14    from_this_person_to_poi  0.0000  0.0000\n",
       "18    from_poi_to_this_person  0.0000  0.0000"
      ]
     },
     "execution_count": 78,
     "metadata": {},
     "output_type": "execute_result"
    }
   ],
   "source": [
    "### check results from Normalizer\n",
    "stdMeanReader(features, features_list, Normalizer())"
   ]
  },
  {
   "cell_type": "code",
   "execution_count": 96,
   "metadata": {
    "collapsed": true
   },
   "outputs": [],
   "source": [
    "### create scalers\n",
    "scalers = [('none', None),\n",
    "           ('standardscaler', StandardScaler()),\n",
    "           ('minmaxscaler', MinMaxScaler()),\n",
    "           ('normalier', Normalizer())]"
   ]
  },
  {
   "cell_type": "markdown",
   "metadata": {},
   "source": [
    "## Feature Selection\n",
    "\n",
    "To get a better processing before any fitting into models, two feature selection methods for classification listed in \n",
    "<a href='http://scikit-learn.org/stable/modules/feature_selection.html' target='_blank'>sklearn documentations</a> \n",
    "are explored, which are SelectKBest and ExtraTreesClassifier."
   ]
  },
  {
   "cell_type": "code",
   "execution_count": 20,
   "metadata": {
    "collapsed": true
   },
   "outputs": [],
   "source": [
    "from sklearn.feature_selection import SelectKBest\n",
    "from sklearn.ensemble import ExtraTreesClassifier\n",
    "\n",
    "feature_selection = [('k_best', SelectKBest(k = 5)),\n",
    "                     ('extra_tree', ExtraTreesClassifier(max_features=5, class_weight='auto', random_state=42))]"
   ]
  },
  {
   "cell_type": "markdown",
   "metadata": {},
   "source": [
    "## PCA\n",
    "PCA is imported to conduct dimensions deduction. Depending on the performances, the decision to include PCA or not will be made later."
   ]
  },
  {
   "cell_type": "code",
   "execution_count": 21,
   "metadata": {
    "collapsed": true
   },
   "outputs": [],
   "source": [
    "from sklearn.decomposition import PCA\n",
    "pca = PCA(n_components=5)"
   ]
  },
  {
   "cell_type": "markdown",
   "metadata": {},
   "source": [
    "When calling PCA, the features are scaled before further processing."
   ]
  },
  {
   "cell_type": "markdown",
   "metadata": {},
   "source": [
    "## Feature Union\n",
    "Feature Union function in sklearn could be handy when we want to combine PCA process with other feature selection method. \n",
    "<a href='http://scikit-learn.org/stable/auto_examples/feature_stacker.html' target='_blank'>One example from sklearn</a>\n",
    "showing the usage of feature union. Do note that, a feature union is not a combination of features but rather a chain of two different processes."
   ]
  },
  {
   "cell_type": "code",
   "execution_count": 22,
   "metadata": {
    "collapsed": true
   },
   "outputs": [],
   "source": [
    "from sklearn.pipeline import FeatureUnion\n",
    "\n",
    "### chain pca to feature selection\n",
    "combined_feature = []\n",
    "for method in feature_selection:\n",
    "    new_method = FeatureUnion([('pca', PCA(n_components=5)), method])\n",
    "    name = method[0] + \"_with_pca\"\n",
    "    combined_feature.append((name, new_method))"
   ]
  },
  {
   "cell_type": "code",
   "execution_count": 23,
   "metadata": {
    "collapsed": true
   },
   "outputs": [],
   "source": [
    "### update feature selection list\n",
    "feature_selection += combined_feature"
   ]
  },
  {
   "cell_type": "markdown",
   "metadata": {},
   "source": [
    "# Pick and Prepare Classifiers\n",
    "\n",
    "According to \n",
    "<a href='http://scikit-learn.org/stable/tutorial/machine_learning_map/' target='_blank'>this cheat sheet in sklearn</a>, \n",
    "there are at least four classification methods can be used,\n",
    "- LinearSVC\n",
    "- KNeighbors Classifier\n",
    "- SVC\n",
    "- Ensemble Classifers\n",
    "\n",
    "In this report, we will check on LinearSVC and KNeighborsClassifier."
   ]
  },
  {
   "cell_type": "code",
   "execution_count": 24,
   "metadata": {
    "collapsed": false
   },
   "outputs": [],
   "source": [
    "from sklearn.svm import LinearSVC\n",
    "linear_svc = LinearSVC(class_weight='auto', penalty='l1', dual=False, random_state=42)\n",
    "\n",
    "params_svc = {'linear_svc__C':[0.1, 0.3, 1, 3, 10],\n",
    "              'linear_svc__tol': [1e-4, 1e-3, 1e-2, 1],\n",
    "              'linear_svc__max_iter': [1e3, 1e4]}"
   ]
  },
  {
   "cell_type": "code",
   "execution_count": 25,
   "metadata": {
    "collapsed": true
   },
   "outputs": [],
   "source": [
    "from sklearn.neighbors import KNeighborsClassifier\n",
    "k_neighbors = KNeighborsClassifier(weights='distance', algorithm='auto')\n",
    "\n",
    "params_kneighbors = {'k_neighbors__n_neighbors': [1, 3, 10],\n",
    "                     'k_neighbors__leaf_size': [2, 5, 10, 30, 50, 100]}"
   ]
  },
  {
   "cell_type": "code",
   "execution_count": 26,
   "metadata": {
    "collapsed": true
   },
   "outputs": [],
   "source": [
    "### put all classifiers together\n",
    "classifiers = [('linear_svc', linear_svc, params_svc),\n",
    "               ('k_neighbors', k_neighbors, params_kneighbors)]"
   ]
  },
  {
   "cell_type": "markdown",
   "metadata": {},
   "source": [
    "# Validation and Evaluation\n"
   ]
  },
  {
   "cell_type": "markdown",
   "metadata": {},
   "source": [
    "## Validation\n",
    "To prevent overfitting, a cross validation is needed to split the dataset into training and testing. StratifiedShuffleSplit is used across all tuning processes with a default test_size of 0.1. Depending on different steps, the n_iter paramter used for cross validation varies, as listed below,\n",
    "\n",
    "- when finding best combination of feature selection and classification method, n_iter = 100;\n",
    "- when tuning on the chosen estimator, n_iter = 1000;\n",
    "- when tuning on the chosen feature selection, n_iter = 1000.\n"
   ]
  },
  {
   "cell_type": "markdown",
   "metadata": {},
   "source": [
    "## Evaluation\n",
    "For evaluation, we will use accuracy score, f1 score, precision score, recall score and time consumption when deciding the best estimator. When performing grid search, f1 score is used as a scoring parameter."
   ]
  },
  {
   "cell_type": "markdown",
   "metadata": {},
   "source": [
    "# Exploring Algorithms"
   ]
  },
  {
   "cell_type": "markdown",
   "metadata": {},
   "source": [
    "When runing the esimators on the dataset, there are 8 models generated seperately for scaled and non-scaled features. A comparison among the best choices is as following, listed as model number, feature selection method, classification method, accuracy score, F1 score, precision score, recall score, and time consumption."
   ]
  },
  {
   "cell_type": "code",
   "execution_count": 97,
   "metadata": {
    "collapsed": false,
    "scrolled": false
   },
   "outputs": [
    {
     "ename": "TypeError",
     "evalue": "trainModel() got an unexpected keyword argument 'scalers'",
     "output_type": "error",
     "traceback": [
      "\u001b[0;31m---------------------------------------------------------------------------\u001b[0m",
      "\u001b[0;31mTypeError\u001b[0m                                 Traceback (most recent call last)",
      "\u001b[0;32m<ipython-input-97-9faa57d6dadb>\u001b[0m in \u001b[0;36m<module>\u001b[0;34m()\u001b[0m\n\u001b[1;32m      3\u001b[0m                                              \u001b[0mfeature_selection\u001b[0m\u001b[0;34m=\u001b[0m\u001b[0mfeature_selection\u001b[0m\u001b[0;34m,\u001b[0m\u001b[0;34m\u001b[0m\u001b[0m\n\u001b[1;32m      4\u001b[0m                                              \u001b[0mclassifiers\u001b[0m\u001b[0;34m=\u001b[0m\u001b[0mclassifiers\u001b[0m\u001b[0;34m,\u001b[0m\u001b[0;34m\u001b[0m\u001b[0m\n\u001b[0;32m----> 5\u001b[0;31m                                              scalers = scalers)\n\u001b[0m",
      "\u001b[0;31mTypeError\u001b[0m: trainModel() got an unexpected keyword argument 'scalers'"
     ]
    }
   ],
   "source": [
    "### scaled results\n",
    "model_sets_scaled, score_scaled = trainModel(data_dict, features_list, \n",
    "                                             feature_selection=feature_selection,\n",
    "                                             classifiers=classifiers,\n",
    "                                             scalers = scalers)"
   ]
  },
  {
   "cell_type": "markdown",
   "metadata": {},
   "source": [
    "check the results."
   ]
  },
  {
   "cell_type": "code",
   "execution_count": 30,
   "metadata": {
    "collapsed": false
   },
   "outputs": [
    {
     "data": {
      "text/html": [
       "<div>\n",
       "<table border=\"1\" class=\"dataframe\">\n",
       "  <thead>\n",
       "    <tr style=\"text-align: right;\">\n",
       "      <th></th>\n",
       "      <th>model</th>\n",
       "      <th>scaled</th>\n",
       "      <th>feature_selection_method</th>\n",
       "      <th>classification_method</th>\n",
       "      <th>accuracy_score</th>\n",
       "      <th>f1_score</th>\n",
       "      <th>precision_score</th>\n",
       "      <th>recall_score</th>\n",
       "      <th>time_used</th>\n",
       "    </tr>\n",
       "  </thead>\n",
       "  <tbody>\n",
       "    <tr>\n",
       "      <th>6</th>\n",
       "      <td>15</td>\n",
       "      <td>none</td>\n",
       "      <td>extra_tree_with_pca</td>\n",
       "      <td>linear_svc</td>\n",
       "      <td>0.7633</td>\n",
       "      <td>0.4036</td>\n",
       "      <td>0.3039</td>\n",
       "      <td>0.6005</td>\n",
       "      <td>101.619</td>\n",
       "    </tr>\n",
       "    <tr>\n",
       "      <th>2</th>\n",
       "      <td>13</td>\n",
       "      <td>none</td>\n",
       "      <td>k_best_with_pca</td>\n",
       "      <td>linear_svc</td>\n",
       "      <td>0.7575</td>\n",
       "      <td>0.4022</td>\n",
       "      <td>0.2996</td>\n",
       "      <td>0.6120</td>\n",
       "      <td>34.494</td>\n",
       "    </tr>\n",
       "    <tr>\n",
       "      <th>3</th>\n",
       "      <td>5</td>\n",
       "      <td>none</td>\n",
       "      <td>k_best_with_pca</td>\n",
       "      <td>linear_svc</td>\n",
       "      <td>0.7558</td>\n",
       "      <td>0.3312</td>\n",
       "      <td>0.2609</td>\n",
       "      <td>0.4535</td>\n",
       "      <td>41.274</td>\n",
       "    </tr>\n",
       "    <tr>\n",
       "      <th>1</th>\n",
       "      <td>9</td>\n",
       "      <td>none</td>\n",
       "      <td>k_best</td>\n",
       "      <td>linear_svc</td>\n",
       "      <td>0.8013</td>\n",
       "      <td>0.3044</td>\n",
       "      <td>0.2855</td>\n",
       "      <td>0.3260</td>\n",
       "      <td>25.712</td>\n",
       "    </tr>\n",
       "    <tr>\n",
       "      <th>0</th>\n",
       "      <td>1</td>\n",
       "      <td>none</td>\n",
       "      <td>k_best</td>\n",
       "      <td>linear_svc</td>\n",
       "      <td>0.7833</td>\n",
       "      <td>0.2903</td>\n",
       "      <td>0.2577</td>\n",
       "      <td>0.3325</td>\n",
       "      <td>23.758</td>\n",
       "    </tr>\n",
       "    <tr>\n",
       "      <th>7</th>\n",
       "      <td>7</td>\n",
       "      <td>none</td>\n",
       "      <td>extra_tree_with_pca</td>\n",
       "      <td>linear_svc</td>\n",
       "      <td>0.7442</td>\n",
       "      <td>0.2808</td>\n",
       "      <td>0.2246</td>\n",
       "      <td>0.3745</td>\n",
       "      <td>107.585</td>\n",
       "    </tr>\n",
       "    <tr>\n",
       "      <th>5</th>\n",
       "      <td>11</td>\n",
       "      <td>none</td>\n",
       "      <td>extra_tree</td>\n",
       "      <td>linear_svc</td>\n",
       "      <td>0.7757</td>\n",
       "      <td>0.2603</td>\n",
       "      <td>0.2323</td>\n",
       "      <td>0.2960</td>\n",
       "      <td>92.791</td>\n",
       "    </tr>\n",
       "    <tr>\n",
       "      <th>4</th>\n",
       "      <td>3</td>\n",
       "      <td>none</td>\n",
       "      <td>extra_tree</td>\n",
       "      <td>linear_svc</td>\n",
       "      <td>0.7460</td>\n",
       "      <td>0.2561</td>\n",
       "      <td>0.2101</td>\n",
       "      <td>0.3280</td>\n",
       "      <td>84.217</td>\n",
       "    </tr>\n",
       "  </tbody>\n",
       "</table>\n",
       "</div>"
      ],
      "text/plain": [
       "   model scaled feature_selection_method classification_method  \\\n",
       "6     15   none      extra_tree_with_pca            linear_svc   \n",
       "2     13   none          k_best_with_pca            linear_svc   \n",
       "3      5   none          k_best_with_pca            linear_svc   \n",
       "1      9   none                   k_best            linear_svc   \n",
       "0      1   none                   k_best            linear_svc   \n",
       "7      7   none      extra_tree_with_pca            linear_svc   \n",
       "5     11   none               extra_tree            linear_svc   \n",
       "4      3   none               extra_tree            linear_svc   \n",
       "\n",
       "   accuracy_score  f1_score  precision_score  recall_score  time_used  \n",
       "6          0.7633    0.4036           0.3039        0.6005    101.619  \n",
       "2          0.7575    0.4022           0.2996        0.6120     34.494  \n",
       "3          0.7558    0.3312           0.2609        0.4535     41.274  \n",
       "1          0.8013    0.3044           0.2855        0.3260     25.712  \n",
       "0          0.7833    0.2903           0.2577        0.3325     23.758  \n",
       "7          0.7442    0.2808           0.2246        0.3745    107.585  \n",
       "5          0.7757    0.2603           0.2323        0.2960     92.791  \n",
       "4          0.7460    0.2561           0.2101        0.3280     84.217  "
      ]
     },
     "execution_count": 30,
     "metadata": {},
     "output_type": "execute_result"
    }
   ],
   "source": [
    "pd.read_csv(\"result.csv\").sort(['f1_score','time_used'], ascending= [0, 1])"
   ]
  },
  {
   "cell_type": "markdown",
   "metadata": {
    "collapsed": true
   },
   "source": [
    "# Final Tuning on the Estimator"
   ]
  },
  {
   "cell_type": "code",
   "execution_count": 30,
   "metadata": {
    "collapsed": false
   },
   "outputs": [],
   "source": [
    "### extract the pipeline\n",
    "pipeline = model_sets[1][1]\n",
    "tuning_score_kneighbors = score[1]"
   ]
  },
  {
   "cell_type": "code",
   "execution_count": 13,
   "metadata": {
    "collapsed": false,
    "scrolled": true
   },
   "outputs": [],
   "source": [
    "### get the training and testing set\n",
    "features_train, features_test, labels_train, labels_test = trainTestSplit(data_dict, features_list)\n",
    "\n",
    "### prepare the cross validation\n",
    "sss = StratifiedShuffleSplit(labels_train, n_iter=1000, random_state=42)"
   ]
  },
  {
   "cell_type": "code",
   "execution_count": 14,
   "metadata": {
    "collapsed": true
   },
   "outputs": [],
   "source": [
    "feature, label = featureLabelSplit(data_dict, features_list)"
   ]
  },
  {
   "cell_type": "code",
   "execution_count": 96,
   "metadata": {
    "collapsed": false
   },
   "outputs": [],
   "source": [
    "from sklearn.preprocessing import *\n",
    "new_feature = MinMaxScaler().fit_transform(feature)"
   ]
  },
  {
   "cell_type": "code",
   "execution_count": 97,
   "metadata": {
    "collapsed": false
   },
   "outputs": [],
   "source": [
    "dff = pd.DataFrame(new_feature, columns = features_list[1:])"
   ]
  },
  {
   "cell_type": "code",
   "execution_count": 98,
   "metadata": {
    "collapsed": false
   },
   "outputs": [
    {
     "data": {
      "text/plain": [
       "salary                       0.166879\n",
       "to_messages                  0.081758\n",
       "deferral_payments            0.049711\n",
       "total_payments               0.021814\n",
       "exercised_stock_options      0.060434\n",
       "bonus                        0.084500\n",
       "restricted_stock             0.199988\n",
       "shared_receipt_with_poi      0.127262\n",
       "restricted_stock_deferred    0.107912\n",
       "total_stock_value            0.060094\n",
       "expenses                     0.154638\n",
       "loan_advances                0.007149\n",
       "from_messages                0.025305\n",
       "other                        0.028694\n",
       "from_this_person_to_poi      0.040435\n",
       "director_fees                0.072392\n",
       "deferred_income              0.944731\n",
       "long_term_incentive          0.065487\n",
       "from_poi_to_this_person      0.073403\n",
       "dtype: float64"
      ]
     },
     "execution_count": 98,
     "metadata": {},
     "output_type": "execute_result"
    }
   ],
   "source": [
    "dff.mean()"
   ]
  },
  {
   "cell_type": "code",
   "execution_count": 100,
   "metadata": {
    "collapsed": false
   },
   "outputs": [
    {
     "data": {
      "text/plain": [
       "salary                       197042.123811\n",
       "to_messages                  164137.025681\n",
       "deferral_payments            128340.973846\n",
       "total_payments                94929.204628\n",
       "exercised_stock_options      155147.105228\n",
       "bonus                        171294.205429\n",
       "restricted_stock             129039.989417\n",
       "shared_receipt_with_poi      216835.346660\n",
       "restricted_stock_deferred     83905.540900\n",
       "total_stock_value            139918.865648\n",
       "expenses                     220098.204152\n",
       "loan_advances                 92614.671822\n",
       "from_messages                112198.946636\n",
       "other                        121326.388857\n",
       "from_this_person_to_poi      145573.458109\n",
       "director_fees                252299.472917\n",
       "deferred_income              192169.105231\n",
       "long_term_incentive          148410.634706\n",
       "from_poi_to_this_person      156326.995769\n",
       "dtype: float64"
      ]
     },
     "execution_count": 100,
     "metadata": {},
     "output_type": "execute_result"
    }
   ],
   "source": [
    "dff.std() * 100000 *(197042.123807/17731.447045)"
   ]
  },
  {
   "cell_type": "code",
   "execution_count": 30,
   "metadata": {
    "collapsed": false
   },
   "outputs": [],
   "source": [
    "df = pd.DataFrame(feature, columns = features_list[1:])"
   ]
  },
  {
   "cell_type": "code",
   "execution_count": 78,
   "metadata": {
    "collapsed": false
   },
   "outputs": [
    {
     "data": {
      "text/plain": [
       "22.753117782909932"
      ]
     },
     "execution_count": 78,
     "metadata": {},
     "output_type": "execute_result"
    }
   ],
   "source": [
    "197042/8660."
   ]
  },
  {
   "cell_type": "code",
   "execution_count": 44,
   "metadata": {
    "collapsed": false
   },
   "outputs": [
    {
     "data": {
      "text/plain": [
       "salary                        197042.123807\n",
       "to_messages                     2237.564816\n",
       "deferral_payments             754101.302578\n",
       "total_payments               8846594.382873\n",
       "exercised_stock_options      4795513.145239\n",
       "bonus                        1233155.255938\n",
       "restricted_stock             2016572.388715\n",
       "shared_receipt_with_poi         1077.290736\n",
       "restricted_stock_deferred    1301983.390377\n",
       "total_stock_value            6189018.075043\n",
       "expenses                       45309.303038\n",
       "loan_advances                6794471.778940\n",
       "from_messages                   1450.675239\n",
       "other                        1131068.130972\n",
       "from_this_person_to_poi           79.778266\n",
       "director_fees                  31300.575144\n",
       "deferred_income               606011.135120\n",
       "long_term_incentive           687182.567651\n",
       "from_poi_to_this_person           74.276769\n",
       "dtype: float64"
      ]
     },
     "execution_count": 44,
     "metadata": {},
     "output_type": "execute_result"
    }
   ],
   "source": [
    "df.std()"
   ]
  },
  {
   "cell_type": "code",
   "execution_count": 37,
   "metadata": {
    "collapsed": false
   },
   "outputs": [
    {
     "data": {
      "text/plain": [
       "salary                        185446.034722\n",
       "to_messages                     1238.555556\n",
       "deferral_payments             222089.555556\n",
       "total_payments               2259057.125000\n",
       "exercised_stock_options      2075801.979167\n",
       "bonus                         675997.354167\n",
       "restricted_stock              868536.291667\n",
       "shared_receipt_with_poi          702.611111\n",
       "restricted_stock_deferred      73417.902778\n",
       "total_stock_value            2909785.611111\n",
       "expenses                       35375.340278\n",
       "loan_advances                 582812.500000\n",
       "from_messages                    363.583333\n",
       "other                         297260.090278\n",
       "from_this_person_to_poi           24.625000\n",
       "director_fees                   9980.319444\n",
       "deferred_income              -193683.270833\n",
       "long_term_incentive           336957.833333\n",
       "from_poi_to_this_person           38.756944\n",
       "dtype: float64"
      ]
     },
     "execution_count": 37,
     "metadata": {},
     "output_type": "execute_result"
    }
   ],
   "source": [
    "df.mean()"
   ]
  },
  {
   "cell_type": "code",
   "execution_count": 32,
   "metadata": {
    "collapsed": false
   },
   "outputs": [
    {
     "data": {
      "text/html": [
       "<div>\n",
       "<table border=\"1\" class=\"dataframe\">\n",
       "  <thead>\n",
       "    <tr style=\"text-align: right;\">\n",
       "      <th></th>\n",
       "      <th>leaf_size</th>\n",
       "      <th>n_neighbors</th>\n",
       "      <th>mean</th>\n",
       "      <th>std</th>\n",
       "    </tr>\n",
       "  </thead>\n",
       "  <tbody>\n",
       "    <tr>\n",
       "      <th>0</th>\n",
       "      <td>2</td>\n",
       "      <td>1</td>\n",
       "      <td>0.19</td>\n",
       "      <td>0.3749</td>\n",
       "    </tr>\n",
       "    <tr>\n",
       "      <th>1</th>\n",
       "      <td>2</td>\n",
       "      <td>3</td>\n",
       "      <td>0.16</td>\n",
       "      <td>0.3574</td>\n",
       "    </tr>\n",
       "    <tr>\n",
       "      <th>2</th>\n",
       "      <td>2</td>\n",
       "      <td>10</td>\n",
       "      <td>0.00</td>\n",
       "      <td>0.0000</td>\n",
       "    </tr>\n",
       "    <tr>\n",
       "      <th>3</th>\n",
       "      <td>5</td>\n",
       "      <td>1</td>\n",
       "      <td>0.19</td>\n",
       "      <td>0.3749</td>\n",
       "    </tr>\n",
       "    <tr>\n",
       "      <th>4</th>\n",
       "      <td>5</td>\n",
       "      <td>3</td>\n",
       "      <td>0.16</td>\n",
       "      <td>0.3574</td>\n",
       "    </tr>\n",
       "    <tr>\n",
       "      <th>5</th>\n",
       "      <td>5</td>\n",
       "      <td>10</td>\n",
       "      <td>0.00</td>\n",
       "      <td>0.0000</td>\n",
       "    </tr>\n",
       "    <tr>\n",
       "      <th>6</th>\n",
       "      <td>10</td>\n",
       "      <td>1</td>\n",
       "      <td>0.19</td>\n",
       "      <td>0.3749</td>\n",
       "    </tr>\n",
       "    <tr>\n",
       "      <th>7</th>\n",
       "      <td>10</td>\n",
       "      <td>3</td>\n",
       "      <td>0.16</td>\n",
       "      <td>0.3574</td>\n",
       "    </tr>\n",
       "    <tr>\n",
       "      <th>8</th>\n",
       "      <td>10</td>\n",
       "      <td>10</td>\n",
       "      <td>0.00</td>\n",
       "      <td>0.0000</td>\n",
       "    </tr>\n",
       "    <tr>\n",
       "      <th>9</th>\n",
       "      <td>30</td>\n",
       "      <td>1</td>\n",
       "      <td>0.19</td>\n",
       "      <td>0.3749</td>\n",
       "    </tr>\n",
       "    <tr>\n",
       "      <th>10</th>\n",
       "      <td>30</td>\n",
       "      <td>3</td>\n",
       "      <td>0.16</td>\n",
       "      <td>0.3574</td>\n",
       "    </tr>\n",
       "    <tr>\n",
       "      <th>11</th>\n",
       "      <td>30</td>\n",
       "      <td>10</td>\n",
       "      <td>0.00</td>\n",
       "      <td>0.0000</td>\n",
       "    </tr>\n",
       "    <tr>\n",
       "      <th>12</th>\n",
       "      <td>50</td>\n",
       "      <td>1</td>\n",
       "      <td>0.19</td>\n",
       "      <td>0.3749</td>\n",
       "    </tr>\n",
       "    <tr>\n",
       "      <th>13</th>\n",
       "      <td>50</td>\n",
       "      <td>3</td>\n",
       "      <td>0.16</td>\n",
       "      <td>0.3574</td>\n",
       "    </tr>\n",
       "    <tr>\n",
       "      <th>14</th>\n",
       "      <td>50</td>\n",
       "      <td>10</td>\n",
       "      <td>0.00</td>\n",
       "      <td>0.0000</td>\n",
       "    </tr>\n",
       "    <tr>\n",
       "      <th>15</th>\n",
       "      <td>100</td>\n",
       "      <td>1</td>\n",
       "      <td>0.19</td>\n",
       "      <td>0.3749</td>\n",
       "    </tr>\n",
       "    <tr>\n",
       "      <th>16</th>\n",
       "      <td>100</td>\n",
       "      <td>3</td>\n",
       "      <td>0.16</td>\n",
       "      <td>0.3574</td>\n",
       "    </tr>\n",
       "    <tr>\n",
       "      <th>17</th>\n",
       "      <td>100</td>\n",
       "      <td>10</td>\n",
       "      <td>0.00</td>\n",
       "      <td>0.0000</td>\n",
       "    </tr>\n",
       "  </tbody>\n",
       "</table>\n",
       "</div>"
      ],
      "text/plain": [
       "    leaf_size  n_neighbors  mean     std\n",
       "0           2            1  0.19  0.3749\n",
       "1           2            3  0.16  0.3574\n",
       "2           2           10  0.00  0.0000\n",
       "3           5            1  0.19  0.3749\n",
       "4           5            3  0.16  0.3574\n",
       "5           5           10  0.00  0.0000\n",
       "6          10            1  0.19  0.3749\n",
       "7          10            3  0.16  0.3574\n",
       "8          10           10  0.00  0.0000\n",
       "9          30            1  0.19  0.3749\n",
       "10         30            3  0.16  0.3574\n",
       "11         30           10  0.00  0.0000\n",
       "12         50            1  0.19  0.3749\n",
       "13         50            3  0.16  0.3574\n",
       "14         50           10  0.00  0.0000\n",
       "15        100            1  0.19  0.3749\n",
       "16        100            3  0.16  0.3574\n",
       "17        100           10  0.00  0.0000"
      ]
     },
     "execution_count": 32,
     "metadata": {},
     "output_type": "execute_result"
    }
   ],
   "source": [
    "### check on grid score\n",
    "gridScoreReader(tuning_score_kneighbors)"
   ]
  },
  {
   "cell_type": "markdown",
   "metadata": {},
   "source": [
    "## Tuning on SelectKBest"
   ]
  },
  {
   "cell_type": "code",
   "execution_count": 33,
   "metadata": {
    "collapsed": false
   },
   "outputs": [
    {
     "name": "stdout",
     "output_type": "stream",
     "text": [
      "    Accuracy score: 0.931\n",
      "    F1 score: 0.5\n",
      "    Precision score: 0.5\n",
      "    Recall score: 0.5\n"
     ]
    },
    {
     "data": {
      "text/plain": [
       "(0.931, 0.5, 0.5, 0.5)"
      ]
     },
     "execution_count": 33,
     "metadata": {},
     "output_type": "execute_result"
    }
   ],
   "source": [
    "### set the parameters\n",
    "params_kbest = {\"k_best__k\": [1,2,3,4,5,6,7,8,9,10]}\n",
    "\n",
    "### fit and search\n",
    "estimator = GridSearchCV(pipeline, params_kbest, scoring='f1', cv=sss)\n",
    "estimator.fit(features_train, labels_train)\n",
    "\n",
    "### extract scores\n",
    "tuning_score_kbest = estimator.grid_scores_\n",
    "\n",
    "### get the best estimator\n",
    "clf = estimator.best_estimator_\n",
    "\n",
    "### check the model performance\n",
    "evaluateModel(clf.predict(features_test), labels_test)"
   ]
  },
  {
   "cell_type": "code",
   "execution_count": 34,
   "metadata": {
    "collapsed": false
   },
   "outputs": [],
   "source": [
    "##E extract algorithm\n",
    "k_best = clf.steps[0][1]\n",
    "\n",
    "### get the score\n",
    "k_best_result = zip(features_list[1:], k_best.scores_, k_best.get_support())\n",
    "k_best_result.sort(key=lambda value:value[1], reverse=True)"
   ]
  },
  {
   "cell_type": "code",
   "execution_count": 35,
   "metadata": {
    "collapsed": false
   },
   "outputs": [
    {
     "data": {
      "text/plain": [
       "[('bonus', 51.120605903941218, True),\n",
       " ('salary', 24.378837544422296, True),\n",
       " ('exercised_stock_options', 21.111725009619182, True),\n",
       " ('total_stock_value', 20.87860909083037, True),\n",
       " ('long_term_incentive', 20.516440353312195, False),\n",
       " ('deferred_income', 18.499021817455969, False),\n",
       " ('shared_receipt_with_poi', 18.477569072515099, False),\n",
       " ('total_payments', 12.938116760117209, False),\n",
       " ('restricted_stock', 11.515986746342593, False),\n",
       " ('from_poi_to_this_person', 9.8344055580294469, False),\n",
       " ('loan_advances', 9.6499650560932189, False),\n",
       " ('from_this_person_to_poi', 6.8731239136060633, False),\n",
       " ('to_messages', 5.8210008299837321, False),\n",
       " ('other', 3.9924191837478231, False),\n",
       " ('expenses', 2.5639196153701413, False),\n",
       " ('director_fees', 1.2871143874353277, False),\n",
       " ('restricted_stock_deferred', 0.56816385208855003, False),\n",
       " ('deferral_payments', 0.0013739864310871243, False),\n",
       " ('from_messages', 1.6042692443149132e-05, False)]"
      ]
     },
     "execution_count": 35,
     "metadata": {},
     "output_type": "execute_result"
    }
   ],
   "source": [
    "k_best_result"
   ]
  },
  {
   "cell_type": "code",
   "execution_count": 36,
   "metadata": {
    "collapsed": false
   },
   "outputs": [
    {
     "data": {
      "text/html": [
       "<div>\n",
       "<table border=\"1\" class=\"dataframe\">\n",
       "  <thead>\n",
       "    <tr style=\"text-align: right;\">\n",
       "      <th></th>\n",
       "      <th>k</th>\n",
       "      <th>mean</th>\n",
       "      <th>std</th>\n",
       "    </tr>\n",
       "  </thead>\n",
       "  <tbody>\n",
       "    <tr>\n",
       "      <th>0</th>\n",
       "      <td>1</td>\n",
       "      <td>0.4187</td>\n",
       "      <td>0.4331</td>\n",
       "    </tr>\n",
       "    <tr>\n",
       "      <th>1</th>\n",
       "      <td>2</td>\n",
       "      <td>0.4103</td>\n",
       "      <td>0.4239</td>\n",
       "    </tr>\n",
       "    <tr>\n",
       "      <th>2</th>\n",
       "      <td>3</td>\n",
       "      <td>0.3983</td>\n",
       "      <td>0.4284</td>\n",
       "    </tr>\n",
       "    <tr>\n",
       "      <th>3</th>\n",
       "      <td>4</td>\n",
       "      <td>0.5031</td>\n",
       "      <td>0.4390</td>\n",
       "    </tr>\n",
       "    <tr>\n",
       "      <th>4</th>\n",
       "      <td>5</td>\n",
       "      <td>0.4613</td>\n",
       "      <td>0.4504</td>\n",
       "    </tr>\n",
       "    <tr>\n",
       "      <th>5</th>\n",
       "      <td>6</td>\n",
       "      <td>0.2693</td>\n",
       "      <td>0.3975</td>\n",
       "    </tr>\n",
       "    <tr>\n",
       "      <th>6</th>\n",
       "      <td>7</td>\n",
       "      <td>0.2462</td>\n",
       "      <td>0.3895</td>\n",
       "    </tr>\n",
       "    <tr>\n",
       "      <th>7</th>\n",
       "      <td>8</td>\n",
       "      <td>0.2116</td>\n",
       "      <td>0.3675</td>\n",
       "    </tr>\n",
       "    <tr>\n",
       "      <th>8</th>\n",
       "      <td>9</td>\n",
       "      <td>0.2400</td>\n",
       "      <td>0.3833</td>\n",
       "    </tr>\n",
       "    <tr>\n",
       "      <th>9</th>\n",
       "      <td>10</td>\n",
       "      <td>0.2025</td>\n",
       "      <td>0.3581</td>\n",
       "    </tr>\n",
       "  </tbody>\n",
       "</table>\n",
       "</div>"
      ],
      "text/plain": [
       "    k    mean     std\n",
       "0   1  0.4187  0.4331\n",
       "1   2  0.4103  0.4239\n",
       "2   3  0.3983  0.4284\n",
       "3   4  0.5031  0.4390\n",
       "4   5  0.4613  0.4504\n",
       "5   6  0.2693  0.3975\n",
       "6   7  0.2462  0.3895\n",
       "7   8  0.2116  0.3675\n",
       "8   9  0.2400  0.3833\n",
       "9  10  0.2025  0.3581"
      ]
     },
     "execution_count": 36,
     "metadata": {},
     "output_type": "execute_result"
    }
   ],
   "source": [
    "gridScoreReader(tuning_score_kbest)"
   ]
  },
  {
   "cell_type": "markdown",
   "metadata": {},
   "source": [
    "## Check on New Features"
   ]
  },
  {
   "cell_type": "code",
   "execution_count": 37,
   "metadata": {
    "collapsed": false
   },
   "outputs": [
    {
     "name": "stdout",
     "output_type": "stream",
     "text": [
      "    Accuracy score: 0.931\n",
      "    F1 score: 0.5\n",
      "    Precision score: 0.5\n",
      "    Recall score: 0.5\n"
     ]
    },
    {
     "data": {
      "text/plain": [
       "(0.931, 0.5, 0.5, 0.5)"
      ]
     },
     "execution_count": 37,
     "metadata": {},
     "output_type": "execute_result"
    }
   ],
   "source": [
    "### extact new training and testing sets for checking\n",
    "features_train_new, features_test_new, labels_train_new, labels_test_new = trainTestSplit(data_dict, new_features_list)\n",
    "\n",
    "### copy estimator\n",
    "new_clf = clf\n",
    "\n",
    "### fit the model\n",
    "new_clf.fit(features_train_new, labels_train_new)\n",
    "\n",
    "### check the new features's impact on the model\n",
    "evaluateModel(new_clf.predict(features_test_new), labels_test_new)"
   ]
  },
  {
   "cell_type": "code",
   "execution_count": 38,
   "metadata": {
    "collapsed": false,
    "scrolled": true
   },
   "outputs": [
    {
     "data": {
      "text/plain": [
       "[('bonus', 51.120605903941218, True),\n",
       " ('salary', 24.378837544422296, True),\n",
       " ('exercised_stock_options', 21.111725009619182, True),\n",
       " ('total_stock_value', 20.87860909083037, True),\n",
       " ('long_term_incentive', 20.516440353312195, False),\n",
       " ('deferred_income', 18.499021817455969, False),\n",
       " ('shared_receipt_with_poi', 18.477569072515099, False),\n",
       " ('total_payments', 12.938116760117209, False),\n",
       " ('restricted_stock', 11.515986746342593, False),\n",
       " ('from_poi_to_this_person', 9.8344055580294469, False),\n",
       " ('loan_advances', 9.6499650560932189, False),\n",
       " ('from_this_person_to_poi', 6.8731239136060633, False),\n",
       " ('to_messages', 5.8210008299837321, False),\n",
       " ('other', 3.9924191837478231, False),\n",
       " ('poi_to_ratio', 3.353610953858202, False),\n",
       " ('poi_from_ratio', 2.6016157011385932, False),\n",
       " ('expenses', 2.5639196153701413, False),\n",
       " ('director_fees', 1.2871143874353277, False),\n",
       " ('restricted_stock_deferred', 0.56816385208855003, False),\n",
       " ('stock_salary_ratio', 0.092387770980377898, False),\n",
       " ('deferral_payments', 0.0013739864310871243, False),\n",
       " ('from_messages', 1.6042692443149132e-05, False)]"
      ]
     },
     "execution_count": 38,
     "metadata": {},
     "output_type": "execute_result"
    }
   ],
   "source": [
    "### get all the features\n",
    "new_kbest = new_clf.steps[0][1]\n",
    "new_kbest_result = zip(new_features_list[1:], new_kbest.scores_, new_kbest.get_support())\n",
    "new_kbest_result.sort(key=lambda value:value[1], reverse=True)\n",
    "new_kbest_result"
   ]
  },
  {
   "cell_type": "markdown",
   "metadata": {},
   "source": [
    "#Final Solution\n",
    "\n",
    "After comparing among feature selection methods, classification methods, carefully tuning parameters for the methods, the best model turned out to be SelectKBest as feature selection processor and KNeighbors as classification method. Parameters are as following,\n",
    "- SelectKBest, k = 4.\n",
    "- KNeighbors, leaf_size = 2, n_neighbors = 1.\n"
   ]
  },
  {
   "cell_type": "code",
   "execution_count": 39,
   "metadata": {
    "collapsed": false
   },
   "outputs": [
    {
     "data": {
      "text/plain": [
       "[('k_best', SelectKBest(k=4, score_func=<function f_classif at 0x106be5050>)),\n",
       " ('k_neighbors',\n",
       "  KNeighborsClassifier(algorithm='auto', leaf_size=2, metric='minkowski',\n",
       "             metric_params=None, n_neighbors=1, p=2, weights='distance'))]"
      ]
     },
     "execution_count": 39,
     "metadata": {},
     "output_type": "execute_result"
    }
   ],
   "source": [
    "### check on the parameters\n",
    "clf.steps"
   ]
  },
  {
   "cell_type": "code",
   "execution_count": 40,
   "metadata": {
    "collapsed": false
   },
   "outputs": [],
   "source": [
    "### prepare for the test\n",
    "clf = clf\n",
    "my_dataset = data_dict\n",
    "features_list = features_list\n",
    "\n",
    "### dump for testing\n",
    "dump_classifier_and_data(clf, my_dataset, features_list)"
   ]
  }
 ],
 "metadata": {
  "kernelspec": {
   "display_name": "Python 2",
   "language": "python",
   "name": "python2"
  },
  "language_info": {
   "codemirror_mode": {
    "name": "ipython",
    "version": 2
   },
   "file_extension": ".py",
   "mimetype": "text/x-python",
   "name": "python",
   "nbconvert_exporter": "python",
   "pygments_lexer": "ipython2",
   "version": "2.7.10"
  }
 },
 "nbformat": 4,
 "nbformat_minor": 0
}
